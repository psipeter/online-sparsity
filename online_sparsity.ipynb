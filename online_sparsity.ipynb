{
 "cells": [
  {
   "cell_type": "code",
   "execution_count": 1,
   "id": "6647c120-2a91-434a-a761-a87be9873908",
   "metadata": {},
   "outputs": [],
   "source": [
    "import numpy as np\n",
    "import nengo\n",
    "import nengolib\n",
    "from nengo_extras.plot_spikes import plot_spikes, preprocess_spikes\n",
    "\n",
    "import matplotlib.pyplot as plt\n",
    "import seaborn as sns\n",
    "%matplotlib inline"
   ]
  },
  {
   "cell_type": "markdown",
   "id": "24b31818-5532-4edd-b3e0-cd2fa630e11c",
   "metadata": {},
   "source": [
    "## Model Parameters"
   ]
  },
  {
   "cell_type": "code",
   "execution_count": 2,
   "id": "230a8a57-3ddb-4f71-ae26-5574aa6b2130",
   "metadata": {},
   "outputs": [],
   "source": [
    "seed = 0\n",
    "rng = np.random.RandomState(seed)\n",
    "n_items = 6\n",
    "d = 2\n",
    "n_neurons = 100\n",
    "dt = 0.001\n",
    "t = 1.0\n",
    "n_cycles = 10\n",
    "T = t*n_items*n_cycles\n",
    "learning_rate = 1e-2\n",
    "synapse = 0.05\n",
    "\n",
    "smooth = nengolib.DoubleExp(1e-2, 2e-1)\n",
    "items = nengolib.stats.ScatteredHypersphere(surface=True).sample(n_items, d, rng=rng)\n",
    "intercept_mean = (np.dot(items, items.T) - np.eye(n_items)).flatten().max()\n",
    "intercept_std = 1e-1\n",
    "intercepts = rng.normal(intercept_mean, intercept_std, n_neurons)\n",
    "max_rates = nengo.dists.Uniform(20, 40)"
   ]
  },
  {
   "cell_type": "markdown",
   "id": "b2f391dd-814f-40c8-90af-1b3a53838b5c",
   "metadata": {},
   "source": [
    "### Present inputs in a cyclic pattern"
   ]
  },
  {
   "cell_type": "code",
   "execution_count": 3,
   "id": "77c7107c-8977-4078-94d6-999544ec482a",
   "metadata": {},
   "outputs": [],
   "source": [
    "stim_inpt = np.zeros((int(T/dt)+2, d))\n",
    "time = 0\n",
    "for i in range(n_cycles):\n",
    "    order = np.arange(0, n_items)\n",
    "    rng.shuffle(order)\n",
    "    for j in range(n_items):\n",
    "        for k in range(int(t/dt)):\n",
    "            stim_inpt[time] = items[order[j]]\n",
    "            time += 1\n",
    "stim = lambda x: stim_inpt[int(x/dt)]"
   ]
  },
  {
   "cell_type": "markdown",
   "id": "3258cc23-b6eb-4273-a2a8-3238394018c7",
   "metadata": {},
   "source": [
    "## Generate decoders for ```pre```, train 'sparse' encoders for ```target```, and compute readout decoders for ```target```"
   ]
  },
  {
   "cell_type": "code",
   "execution_count": 4,
   "id": "cb3cc164-38b7-4ecb-8353-3ac49077aa1e",
   "metadata": {},
   "outputs": [
    {
     "data": {
      "text/html": [
       "\n",
       "                <div id=\"b7a06d87-18eb-4a27-827d-2d4770a93fdd\" style=\"\n",
       "                    width: 100%;\n",
       "                    border: 1px solid #cfcfcf;\n",
       "                    border-radius: 4px;\n",
       "                    text-align: center;\n",
       "                    position: relative;\">\n",
       "                  <div class=\"pb-text\" style=\"\n",
       "                      position: absolute;\n",
       "                      width: 100%;\">\n",
       "                    0%\n",
       "                  </div>\n",
       "                  <div class=\"pb-fill\" style=\"\n",
       "                      background-color: #bdd2e6;\n",
       "                      width: 0%;\">\n",
       "                    <style type=\"text/css\" scoped=\"scoped\">\n",
       "                        @keyframes pb-fill-anim {\n",
       "                            0% { background-position: 0 0; }\n",
       "                            100% { background-position: 100px 0; }\n",
       "                        }\n",
       "                    </style>\n",
       "                    &nbsp;\n",
       "                  </div>\n",
       "                </div>"
      ],
      "text/plain": [
       "HtmlProgressBar cannot be displayed. Please use the TerminalProgressBar. It can be enabled with `nengo.rc.set('progress', 'progress_bar', 'nengo.utils.progress.TerminalProgressBar')`."
      ]
     },
     "metadata": {},
     "output_type": "display_data"
    },
    {
     "data": {
      "application/javascript": [
       "\n",
       "              (function () {\n",
       "                  var root = document.getElementById('b7a06d87-18eb-4a27-827d-2d4770a93fdd');\n",
       "                  var text = root.getElementsByClassName('pb-text')[0];\n",
       "                  var fill = root.getElementsByClassName('pb-fill')[0];\n",
       "\n",
       "                  text.innerHTML = 'Build finished in 0:00:01.';\n",
       "                  \n",
       "            fill.style.width = '100%';\n",
       "            fill.style.animation = 'pb-fill-anim 2s linear infinite';\n",
       "            fill.style.backgroundSize = '100px 100%';\n",
       "            fill.style.backgroundImage = 'repeating-linear-gradient(' +\n",
       "                '90deg, #bdd2e6, #edf2f8 40%, #bdd2e6 80%, #bdd2e6)';\n",
       "        \n",
       "                  \n",
       "                fill.style.animation = 'none';\n",
       "                fill.style.backgroundImage = 'none';\n",
       "            \n",
       "              })();\n",
       "        "
      ],
      "text/plain": [
       "<IPython.core.display.Javascript object>"
      ]
     },
     "metadata": {},
     "output_type": "display_data"
    },
    {
     "data": {
      "text/html": [
       "\n",
       "                <div id=\"81f7d30d-7071-471b-9937-b65e4b3266e7\" style=\"\n",
       "                    width: 100%;\n",
       "                    border: 1px solid #cfcfcf;\n",
       "                    border-radius: 4px;\n",
       "                    text-align: center;\n",
       "                    position: relative;\">\n",
       "                  <div class=\"pb-text\" style=\"\n",
       "                      position: absolute;\n",
       "                      width: 100%;\">\n",
       "                    0%\n",
       "                  </div>\n",
       "                  <div class=\"pb-fill\" style=\"\n",
       "                      background-color: #bdd2e6;\n",
       "                      width: 0%;\">\n",
       "                    <style type=\"text/css\" scoped=\"scoped\">\n",
       "                        @keyframes pb-fill-anim {\n",
       "                            0% { background-position: 0 0; }\n",
       "                            100% { background-position: 100px 0; }\n",
       "                        }\n",
       "                    </style>\n",
       "                    &nbsp;\n",
       "                  </div>\n",
       "                </div>"
      ],
      "text/plain": [
       "HtmlProgressBar cannot be displayed. Please use the TerminalProgressBar. It can be enabled with `nengo.rc.set('progress', 'progress_bar', 'nengo.utils.progress.TerminalProgressBar')`."
      ]
     },
     "metadata": {},
     "output_type": "display_data"
    },
    {
     "data": {
      "application/javascript": [
       "\n",
       "              (function () {\n",
       "                  var root = document.getElementById('81f7d30d-7071-471b-9937-b65e4b3266e7');\n",
       "                  var text = root.getElementsByClassName('pb-text')[0];\n",
       "                  var fill = root.getElementsByClassName('pb-fill')[0];\n",
       "\n",
       "                  text.innerHTML = 'Simulation finished in 0:00:25.';\n",
       "                  \n",
       "            if (100.0 > 0.) {\n",
       "                fill.style.transition = 'width 0.1s linear';\n",
       "            } else {\n",
       "                fill.style.transition = 'none';\n",
       "            }\n",
       "\n",
       "            fill.style.width = '100.0%';\n",
       "            fill.style.animation = 'none';\n",
       "            fill.style.backgroundImage = 'none'\n",
       "        \n",
       "                  \n",
       "                fill.style.animation = 'none';\n",
       "                fill.style.backgroundImage = 'none';\n",
       "            \n",
       "              })();\n",
       "        "
      ],
      "text/plain": [
       "<IPython.core.display.Javascript object>"
      ]
     },
     "metadata": {},
     "output_type": "display_data"
    }
   ],
   "source": [
    "with nengo.Network() as network:\n",
    "    stim_items = nengo.Node(stim)\n",
    "    \n",
    "    pre = nengo.Ensemble(n_neurons, d, seed=seed)\n",
    "    target = nengo.Ensemble(n_neurons, d, intercepts=intercepts, max_rates=max_rates, seed=seed+1)\n",
    "    \n",
    "    voja = nengo.Voja(learning_rate=learning_rate, post_synapse=synapse)\n",
    "    stim_pre = nengo.Connection(stim_items, pre, synapse=None)\n",
    "    pre_target = nengo.Connection(pre, target, synapse=synapse, learning_rule_type=voja)\n",
    "    \n",
    "    p_items = nengo.Probe(stim_items, synapse=None)\n",
    "    p_target = nengo.Probe(target.neurons, synapse=None)\n",
    "    p_encoders = nengo.Probe(pre_target.learning_rule, \"scaled_encoders\")\n",
    "\n",
    "with nengo.Simulator(network, dt=dt) as sim:\n",
    "    sim.run(T)"
   ]
  },
  {
   "cell_type": "code",
   "execution_count": 5,
   "id": "d62ef605-a73b-485f-bf06-62cb0b7eef75",
   "metadata": {},
   "outputs": [],
   "source": [
    "d_pre = sim.data[pre_target].weights\n",
    "e_target = sim.data[p_encoders][-1].copy()\n",
    "a_target = nengolib.Lowpass(synapse).filt(sim.data[p_target], dt=dt)\n",
    "w_pre_target = np.dot(e_target, d_pre)\n",
    "# plt.plot(sim.data[p_items])\n",
    "# print(d_pre.shape)\n",
    "# print(e_target.shape)\n",
    "# print(w_pre_target.shape)"
   ]
  },
  {
   "cell_type": "markdown",
   "id": "0ed4cc9a-6484-428f-b73a-e226f5222ae2",
   "metadata": {},
   "source": [
    "### Confirm encoder learning has worked\n",
    "Encoders should be clustered around the items defined in Model Parameters"
   ]
  },
  {
   "cell_type": "code",
   "execution_count": 6,
   "id": "06152ee1-be97-45d0-bf10-1a78e27c2703",
   "metadata": {},
   "outputs": [
    {
     "data": {
      "text/plain": [
       "<matplotlib.legend.Legend at 0x7fd1a8f993a0>"
      ]
     },
     "execution_count": 6,
     "metadata": {},
     "output_type": "execute_result"
    },
    {
     "data": {
      "image/png": "[encoded data removed]",
      "text/plain": [
       "<Figure size 576x288 with 2 Axes>"
      ]
     },
     "metadata": {
      "needs_background": "light"
     },
     "output_type": "display_data"
    }
   ],
   "source": [
    "scale = (sim.data[target].gain / target.radius)[:, np.newaxis]\n",
    "encoders_before = sim.data[p_encoders][0].copy() / scale\n",
    "encoders_after = sim.data[p_encoders][-1].copy() / scale\n",
    "fig, (ax, ax2) = plt.subplots(nrows=1, ncols=2, sharey=True, figsize=((8, 4)))\n",
    "ax.scatter(encoders_before[:, 0], encoders_before[:, 1], label=\"Encoders\")\n",
    "ax.scatter(items[:, 0], items[:, 1], c=\"red\", s=150, alpha=0.6, label=\"items\")\n",
    "ax2.scatter(encoders_after[:, 0], encoders_after[:, 1], label=\"Encoders\")\n",
    "ax2.scatter(items[:, 0], items[:, 1], c=\"red\", s=150, alpha=0.6, label=\"items\")\n",
    "ax.set(xlabel=r'$d_0$', ylabel=r'$d_1$', title='Before')\n",
    "ax2.set(xlabel=r'$d_0$', title='After')\n",
    "ax.legend(loc='best')\n",
    "ax2.legend(loc='best')"
   ]
  },
  {
   "cell_type": "markdown",
   "id": "eaf2a09f-c038-4fc2-95bd-d730d8df0f84",
   "metadata": {},
   "source": [
    "## Rebuild the network with an additional ```post``` population\n",
    "The activity of ```post``` should approach the activity of ```target``` as learning proceeds"
   ]
  },
  {
   "cell_type": "code",
   "execution_count": 7,
   "id": "4846c468-662c-4809-aded-489133c61d22",
   "metadata": {},
   "outputs": [
    {
     "name": "stderr",
     "output_type": "stream",
     "text": [
      "/home/pduggins/.local/share/virtualenvs/online-sparsity-6Auzpoec/lib/python3.9/site-packages/nengo/utils/numpy.py:79: FutureWarning: Using a non-tuple sequence for multidimensional indexing is deprecated; use `arr[tuple(seq)]` instead of `arr[seq]`. In the future this will be interpreted as an array index, `arr[np.array(seq)]`, which will result either in an error or a different result.\n",
      "  v = a[inds]\n"
     ]
    },
    {
     "data": {
      "text/html": [
       "\n",
       "                <div id=\"25513159-e660-4774-9895-3f81049fc224\" style=\"\n",
       "                    width: 100%;\n",
       "                    border: 1px solid #cfcfcf;\n",
       "                    border-radius: 4px;\n",
       "                    text-align: center;\n",
       "                    position: relative;\">\n",
       "                  <div class=\"pb-text\" style=\"\n",
       "                      position: absolute;\n",
       "                      width: 100%;\">\n",
       "                    0%\n",
       "                  </div>\n",
       "                  <div class=\"pb-fill\" style=\"\n",
       "                      background-color: #bdd2e6;\n",
       "                      width: 0%;\">\n",
       "                    <style type=\"text/css\" scoped=\"scoped\">\n",
       "                        @keyframes pb-fill-anim {\n",
       "                            0% { background-position: 0 0; }\n",
       "                            100% { background-position: 100px 0; }\n",
       "                        }\n",
       "                    </style>\n",
       "                    &nbsp;\n",
       "                  </div>\n",
       "                </div>"
      ],
      "text/plain": [
       "HtmlProgressBar cannot be displayed. Please use the TerminalProgressBar. It can be enabled with `nengo.rc.set('progress', 'progress_bar', 'nengo.utils.progress.TerminalProgressBar')`."
      ]
     },
     "metadata": {},
     "output_type": "display_data"
    },
    {
     "data": {
      "application/javascript": [
       "\n",
       "              (function () {\n",
       "                  var root = document.getElementById('25513159-e660-4774-9895-3f81049fc224');\n",
       "                  var text = root.getElementsByClassName('pb-text')[0];\n",
       "                  var fill = root.getElementsByClassName('pb-fill')[0];\n",
       "\n",
       "                  text.innerHTML = 'Build finished in 0:00:01.';\n",
       "                  \n",
       "            fill.style.width = '100%';\n",
       "            fill.style.animation = 'pb-fill-anim 2s linear infinite';\n",
       "            fill.style.backgroundSize = '100px 100%';\n",
       "            fill.style.backgroundImage = 'repeating-linear-gradient(' +\n",
       "                '90deg, #bdd2e6, #edf2f8 40%, #bdd2e6 80%, #bdd2e6)';\n",
       "        \n",
       "                  \n",
       "                fill.style.animation = 'none';\n",
       "                fill.style.backgroundImage = 'none';\n",
       "            \n",
       "              })();\n",
       "        "
      ],
      "text/plain": [
       "<IPython.core.display.Javascript object>"
      ]
     },
     "metadata": {},
     "output_type": "display_data"
    },
    {
     "data": {
      "text/html": [
       "\n",
       "                <div id=\"143fd0db-2618-46be-8f84-6d7a734ecaf7\" style=\"\n",
       "                    width: 100%;\n",
       "                    border: 1px solid #cfcfcf;\n",
       "                    border-radius: 4px;\n",
       "                    text-align: center;\n",
       "                    position: relative;\">\n",
       "                  <div class=\"pb-text\" style=\"\n",
       "                      position: absolute;\n",
       "                      width: 100%;\">\n",
       "                    0%\n",
       "                  </div>\n",
       "                  <div class=\"pb-fill\" style=\"\n",
       "                      background-color: #bdd2e6;\n",
       "                      width: 0%;\">\n",
       "                    <style type=\"text/css\" scoped=\"scoped\">\n",
       "                        @keyframes pb-fill-anim {\n",
       "                            0% { background-position: 0 0; }\n",
       "                            100% { background-position: 100px 0; }\n",
       "                        }\n",
       "                    </style>\n",
       "                    &nbsp;\n",
       "                  </div>\n",
       "                </div>"
      ],
      "text/plain": [
       "HtmlProgressBar cannot be displayed. Please use the TerminalProgressBar. It can be enabled with `nengo.rc.set('progress', 'progress_bar', 'nengo.utils.progress.TerminalProgressBar')`."
      ]
     },
     "metadata": {},
     "output_type": "display_data"
    },
    {
     "data": {
      "application/javascript": [
       "\n",
       "              (function () {\n",
       "                  var root = document.getElementById('143fd0db-2618-46be-8f84-6d7a734ecaf7');\n",
       "                  var text = root.getElementsByClassName('pb-text')[0];\n",
       "                  var fill = root.getElementsByClassName('pb-fill')[0];\n",
       "\n",
       "                  text.innerHTML = 'Simulation finished in 0:00:05.';\n",
       "                  \n",
       "            if (100.0 > 0.) {\n",
       "                fill.style.transition = 'width 0.1s linear';\n",
       "            } else {\n",
       "                fill.style.transition = 'none';\n",
       "            }\n",
       "\n",
       "            fill.style.width = '100.0%';\n",
       "            fill.style.animation = 'none';\n",
       "            fill.style.backgroundImage = 'none'\n",
       "        \n",
       "                  \n",
       "                fill.style.animation = 'none';\n",
       "                fill.style.backgroundImage = 'none';\n",
       "            \n",
       "              })();\n",
       "        "
      ],
      "text/plain": [
       "<IPython.core.display.Javascript object>"
      ]
     },
     "metadata": {},
     "output_type": "display_data"
    }
   ],
   "source": [
    "with nengo.Network() as network:\n",
    "    stim_items = nengo.Node(stim)\n",
    "    \n",
    "    pre = nengo.Ensemble(n_neurons, d, seed=seed)\n",
    "    target = nengo.Ensemble(n_neurons, d, intercepts=intercepts, max_rates=max_rates, seed=seed+1)\n",
    "    \n",
    "    stim_pre = nengo.Connection(stim_items, pre, synapse=None)\n",
    "    pre_target = nengo.Connection(pre, target, synapse=synapse, solver=nengo.solvers.NoSolver(w_pre_target.T, weights=True))\n",
    "    \n",
    "    p_items = nengo.Probe(stim_items, synapse=None)\n",
    "    p_target = nengo.Probe(target.neurons, synapse=None)\n",
    "\n",
    "with nengo.Simulator(network, dt=dt) as sim:\n",
    "    sim.run(t*n_items)"
   ]
  },
  {
   "cell_type": "markdown",
   "id": "4e1044ca-279e-4b77-92d9-913ce8e58046",
   "metadata": {},
   "source": [
    "### Offline computation of readout decoders, then estimate"
   ]
  },
  {
   "cell_type": "code",
   "execution_count": 8,
   "id": "7339f554-a122-4986-a3a9-62e5680b3421",
   "metadata": {},
   "outputs": [
    {
     "data": {
      "text/plain": [
       "[Text(0.5, 0, 'time'), Text(0, 0.5, 'value')]"
      ]
     },
     "execution_count": 8,
     "metadata": {},
     "output_type": "execute_result"
    },
    {
     "data": {
      "image/png": "[encoded data removed]",
      "text/plain": [
       "<Figure size 432x288 with 1 Axes>"
      ]
     },
     "metadata": {
      "needs_background": "light"
     },
     "output_type": "display_data"
    }
   ],
   "source": [
    "a_target = nengolib.Lowpass(synapse).filt(sim.data[p_target], dt=dt)\n",
    "d_target = nengo.solvers.LstsqL2(reg=1e-2)(a_target, sim.data[p_items])[0]\n",
    "estimate = np.dot(a_target, d_target)\n",
    "fig, ax = plt.subplots()\n",
    "ax.plot(sim.trange(), estimate, label='estimate')\n",
    "ax.plot(sim.trange(), sim.data[p_items], label='items')\n",
    "ax.legend()\n",
    "ax.set(xlabel='time', ylabel='value')"
   ]
  },
  {
   "cell_type": "code",
   "execution_count": 9,
   "id": "8766b31b-ad28-42ba-a5ba-8db1c7d7aed1",
   "metadata": {},
   "outputs": [
    {
     "data": {
      "text/plain": [
       "[Text(0.5, 0, 'time'), Text(0, 0.5, 'neuron')]"
      ]
     },
     "execution_count": 9,
     "metadata": {},
     "output_type": "execute_result"
    },
    {
     "data": {
      "image/png": "[encoded data removed]",
      "text/plain": [
       "<Figure size 432x288 with 1 Axes>"
      ]
     },
     "metadata": {
      "needs_background": "light"
     },
     "output_type": "display_data"
    }
   ],
   "source": [
    "fig, ax = plt.subplots()\n",
    "plot_spikes(*preprocess_spikes(sim.trange(), sim.data[p_target]))\n",
    "ax.set(xlabel='time', ylabel='neuron')"
   ]
  },
  {
   "cell_type": "markdown",
   "id": "8ea6749d-8578-41d9-bdb4-9be65b7db69f",
   "metadata": {},
   "source": [
    "## Define a custom node to implement a connection and a learning rule"
   ]
  },
  {
   "cell_type": "code",
   "execution_count": 14,
   "id": "46c81d01-2332-40d8-8f18-89d638f5d609",
   "metadata": {},
   "outputs": [],
   "source": [
    "class CustomLearningNode(nengo.Node):\n",
    "    def __init__(self, pre, post, target, d_pre, learning_rate, exc=False, inh=False, seed=0):\n",
    "        self.pre = pre\n",
    "        self.post = post\n",
    "        self.target = target\n",
    "        self.size_in = pre.n_neurons + post.n_neurons + target.n_neurons\n",
    "        self.size_out = post.n_neurons\n",
    "        self.d_pre = d_pre\n",
    "        self.e_post = np.zeros((pre.n_neurons, post.n_neurons, d_pre.shape[1]))\n",
    "        self.weights = np.zeros((pre.n_neurons, post.n_neurons))\n",
    "        self.learning_rate = learning_rate\n",
    "        self.exc = exc\n",
    "        self.inh = inh\n",
    "        self.rng = np.random.RandomState(seed=seed)\n",
    "        assert self.exc==False or self.inh==False, \"Can't force excitatory and inhibitory weights\"\n",
    "        super().__init__(self.step, size_in=self.size_in, size_out=self.size_out)\n",
    "\n",
    "    def step(self, t, x, t_step=1e-2):\n",
    "        a_pre = x[:self.pre.n_neurons]\n",
    "        a_post = x[self.pre.n_neurons: self.pre.n_neurons+self.post.n_neurons]\n",
    "        a_target = x[self.pre.n_neurons+self.post.n_neurons:]\n",
    "        if t % t_step > 0:\n",
    "            return np.dot(self.weights, a_pre) # only update every t_step\n",
    "        for post in range(self.post.n_neurons):\n",
    "            dA = a_target[post] - a_post[post]\n",
    "            for pre in range(self.pre.n_neurons):\n",
    "                for dim in range(self.d_pre.shape[1]):\n",
    "                    sign = 1.0 if self.d_pre[pre, dim] >= 0 else -1.0\n",
    "                    dE = sign * self.learning_rate * a_pre[pre]\n",
    "                    self.e_post[pre, post, dim] = self.e_post[pre, post, dim] + dA * dE\n",
    "                w = np.dot(self.d_pre[pre], self.e_post[pre, post])\n",
    "                if self.exc and w < 0: w = 0\n",
    "                if self.inh and w > 0: w = 0\n",
    "                self.weights[pre, post] = w\n",
    "        return np.dot(self.weights, a_pre)"
   ]
  },
  {
   "cell_type": "code",
   "execution_count": 15,
   "id": "8dd990d9-74ea-4a8e-89c2-84b0057d069d",
   "metadata": {},
   "outputs": [],
   "source": [
    "with nengo.Network() as network:\n",
    "    stim_items = nengo.Node(stim)\n",
    "\n",
    "    pre = nengo.Ensemble(n_neurons, d, seed=seed)\n",
    "    target = nengo.Ensemble(n_neurons, d, intercepts=intercepts, max_rates=max_rates, seed=seed+1)\n",
    "    post = nengo.Ensemble(n_neurons, d, seed=seed+2, gain=np.ones((n_neurons)), bias=np.zeros((n_neurons)))\n",
    "\n",
    "    learning_node = CustomLearningNode(pre, post, target, d_pre.T, 1e-3)\n",
    "        \n",
    "    stim_pre = nengo.Connection(stim_items, pre, synapse=None)\n",
    "    pre_target = nengo.Connection(pre, target, synapse=synapse, solver=nengo.solvers.NoSolver(w_pre_target.T, weights=True))\n",
    "\n",
    "    nengo.Connection(pre.neurons, learning_node[:pre.n_neurons], synapse=synapse)\n",
    "    nengo.Connection(post.neurons, learning_node[pre.n_neurons: pre.n_neurons+post.n_neurons], synapse=smooth)\n",
    "    nengo.Connection(target.neurons, learning_node[pre.n_neurons+post.n_neurons: ], synapse=smooth)\n",
    "    nengo.Connection(learning_node, post.neurons, synapse=None)\n",
    "    \n",
    "    p_items = nengo.Probe(stim_items, synapse=None)\n",
    "    p_pre = nengo.Probe(pre.neurons, synapse=None)\n",
    "    p_post = nengo.Probe(post.neurons, synapse=None)\n",
    "    p_target = nengo.Probe(target.neurons, synapse=None)\n",
    "    p_node = nengo.Probe(learning_node, synapse=None)"
   ]
  },
  {
   "cell_type": "code",
   "execution_count": 16,
   "id": "2a51d793-bd49-440f-8ca1-be5aa400691a",
   "metadata": {},
   "outputs": [
    {
     "name": "stderr",
     "output_type": "stream",
     "text": [
      "/home/pduggins/.local/share/virtualenvs/online-sparsity-6Auzpoec/lib/python3.9/site-packages/nengo/neurons.py:402: RuntimeWarning: divide by zero encountered in log1p\n",
      "  max_rates = 1.0 / (self.tau_ref - self.tau_rc * np.log1p(\n",
      "/home/pduggins/.local/share/virtualenvs/online-sparsity-6Auzpoec/lib/python3.9/site-packages/nengo/utils/numpy.py:79: FutureWarning: Using a non-tuple sequence for multidimensional indexing is deprecated; use `arr[tuple(seq)]` instead of `arr[seq]`. In the future this will be interpreted as an array index, `arr[np.array(seq)]`, which will result either in an error or a different result.\n",
      "  v = a[inds]\n",
      "/home/pduggins/.local/share/virtualenvs/online-sparsity-6Auzpoec/lib/python3.9/site-packages/nengolib/signal/system.py:196: UserWarning: y0 (None!=0) does not properly initialize the system; see Nengo issue #1124.\n",
      "  warnings.warn(\n"
     ]
    },
    {
     "data": {
      "text/html": [
       "\n",
       "                <div id=\"a938c698-bab3-4609-9206-4c5b61a9bc1c\" style=\"\n",
       "                    width: 100%;\n",
       "                    border: 1px solid #cfcfcf;\n",
       "                    border-radius: 4px;\n",
       "                    text-align: center;\n",
       "                    position: relative;\">\n",
       "                  <div class=\"pb-text\" style=\"\n",
       "                      position: absolute;\n",
       "                      width: 100%;\">\n",
       "                    0%\n",
       "                  </div>\n",
       "                  <div class=\"pb-fill\" style=\"\n",
       "                      background-color: #bdd2e6;\n",
       "                      width: 0%;\">\n",
       "                    <style type=\"text/css\" scoped=\"scoped\">\n",
       "                        @keyframes pb-fill-anim {\n",
       "                            0% { background-position: 0 0; }\n",
       "                            100% { background-position: 100px 0; }\n",
       "                        }\n",
       "                    </style>\n",
       "                    &nbsp;\n",
       "                  </div>\n",
       "                </div>"
      ],
      "text/plain": [
       "HtmlProgressBar cannot be displayed. Please use the TerminalProgressBar. It can be enabled with `nengo.rc.set('progress', 'progress_bar', 'nengo.utils.progress.TerminalProgressBar')`."
      ]
     },
     "metadata": {},
     "output_type": "display_data"
    },
    {
     "data": {
      "application/javascript": [
       "\n",
       "              (function () {\n",
       "                  var root = document.getElementById('a938c698-bab3-4609-9206-4c5b61a9bc1c');\n",
       "                  var text = root.getElementsByClassName('pb-text')[0];\n",
       "                  var fill = root.getElementsByClassName('pb-fill')[0];\n",
       "\n",
       "                  text.innerHTML = 'Build finished in 0:00:01.';\n",
       "                  \n",
       "            fill.style.width = '100%';\n",
       "            fill.style.animation = 'pb-fill-anim 2s linear infinite';\n",
       "            fill.style.backgroundSize = '100px 100%';\n",
       "            fill.style.backgroundImage = 'repeating-linear-gradient(' +\n",
       "                '90deg, #bdd2e6, #edf2f8 40%, #bdd2e6 80%, #bdd2e6)';\n",
       "        \n",
       "                  \n",
       "                fill.style.animation = 'none';\n",
       "                fill.style.backgroundImage = 'none';\n",
       "            \n",
       "              })();\n",
       "        "
      ],
      "text/plain": [
       "<IPython.core.display.Javascript object>"
      ]
     },
     "metadata": {},
     "output_type": "display_data"
    },
    {
     "data": {
      "text/html": [
       "\n",
       "                <div id=\"19594a96-5c1e-4f30-891a-8c3c5678c46f\" style=\"\n",
       "                    width: 100%;\n",
       "                    border: 1px solid #cfcfcf;\n",
       "                    border-radius: 4px;\n",
       "                    text-align: center;\n",
       "                    position: relative;\">\n",
       "                  <div class=\"pb-text\" style=\"\n",
       "                      position: absolute;\n",
       "                      width: 100%;\">\n",
       "                    0%\n",
       "                  </div>\n",
       "                  <div class=\"pb-fill\" style=\"\n",
       "                      background-color: #bdd2e6;\n",
       "                      width: 0%;\">\n",
       "                    <style type=\"text/css\" scoped=\"scoped\">\n",
       "                        @keyframes pb-fill-anim {\n",
       "                            0% { background-position: 0 0; }\n",
       "                            100% { background-position: 100px 0; }\n",
       "                        }\n",
       "                    </style>\n",
       "                    &nbsp;\n",
       "                  </div>\n",
       "                </div>"
      ],
      "text/plain": [
       "HtmlProgressBar cannot be displayed. Please use the TerminalProgressBar. It can be enabled with `nengo.rc.set('progress', 'progress_bar', 'nengo.utils.progress.TerminalProgressBar')`."
      ]
     },
     "metadata": {},
     "output_type": "display_data"
    },
    {
     "data": {
      "application/javascript": [
       "\n",
       "              (function () {\n",
       "                  var root = document.getElementById('19594a96-5c1e-4f30-891a-8c3c5678c46f');\n",
       "                  var text = root.getElementsByClassName('pb-text')[0];\n",
       "                  var fill = root.getElementsByClassName('pb-fill')[0];\n",
       "\n",
       "                  text.innerHTML = 'Simulation finished in 0:00:23.';\n",
       "                  \n",
       "            if (100.0 > 0.) {\n",
       "                fill.style.transition = 'width 0.1s linear';\n",
       "            } else {\n",
       "                fill.style.transition = 'none';\n",
       "            }\n",
       "\n",
       "            fill.style.width = '100.0%';\n",
       "            fill.style.animation = 'none';\n",
       "            fill.style.backgroundImage = 'none'\n",
       "        \n",
       "                  \n",
       "                fill.style.animation = 'none';\n",
       "                fill.style.backgroundImage = 'none';\n",
       "            \n",
       "              })();\n",
       "        "
      ],
      "text/plain": [
       "<IPython.core.display.Javascript object>"
      ]
     },
     "metadata": {},
     "output_type": "display_data"
    }
   ],
   "source": [
    "with nengo.Simulator(network, dt=dt) as sim:\n",
    "    sim.run(10)"
   ]
  },
  {
   "cell_type": "code",
   "execution_count": 17,
   "id": "052e69b0-14c6-4ec2-a623-0182fd13d49b",
   "metadata": {},
   "outputs": [
    {
     "data": {
      "text/plain": [
       "[Text(0.5, 0, 'time'), Text(0, 0.5, 'activity')]"
      ]
     },
     "execution_count": 17,
     "metadata": {},
     "output_type": "execute_result"
    },
    {
     "data": {
      "image/png": "[encoded data removed]",
      "text/plain": [
       "<Figure size 1152x288 with 1 Axes>"
      ]
     },
     "metadata": {
      "needs_background": "light"
     },
     "output_type": "display_data"
    },
    {
     "data": {
      "image/png": "[encoded data removed]",
      "text/plain": [
       "<Figure size 1152x288 with 1 Axes>"
      ]
     },
     "metadata": {
      "needs_background": "light"
     },
     "output_type": "display_data"
    }
   ],
   "source": [
    "fig, ax = plt.subplots(figsize=((16, 4)))\n",
    "ax.plot(sim.trange(), smooth.filt(sim.data[p_post], dt=dt)[:,0], label='post')\n",
    "ax.plot(sim.trange(), smooth.filt(sim.data[p_target], dt=dt)[:,0], label='target')\n",
    "ax.legend()\n",
    "ax.set(xlabel='time', ylabel='activity')\n",
    "\n",
    "fig, ax = plt.subplots(figsize=((16, 4)))\n",
    "ax.plot(sim.trange(), smooth.filt(sim.data[p_post], dt=dt)[:,1], label='post')\n",
    "ax.plot(sim.trange(), smooth.filt(sim.data[p_target], dt=dt)[:,1], label='target')\n",
    "ax.legend()\n",
    "ax.set(xlabel='time', ylabel='activity')"
   ]
  },
  {
   "cell_type": "code",
   "execution_count": null,
   "id": "5281ce18-a666-41bc-afda-5728dbdd99b9",
   "metadata": {},
   "outputs": [],
   "source": []
  }
 ],
 "metadata": {
  "kernelspec": {
   "display_name": "Python 3",
   "language": "python",
   "name": "python3"
  },
  "language_info": {
   "codemirror_mode": {
    "name": "ipython",
    "version": 3
   },
   "file_extension": ".py",
   "mimetype": "text/x-python",
   "name": "python",
   "nbconvert_exporter": "python",
   "pygments_lexer": "ipython3",
   "version": "3.9.2"
  }
 },
 "nbformat": 4,
 "nbformat_minor": 5
}
